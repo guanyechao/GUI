{
 "cells": [
  {
   "cell_type": "markdown",
   "metadata": {},
   "source": [
    "- 写一个登录窗口框架"
   ]
  },
  {
   "cell_type": "code",
   "execution_count": null,
   "metadata": {},
   "outputs": [],
   "source": [
    "from tkinter import *\n",
    "window = Tk()\n",
    "window.title(\"GUI\")\n",
    "window.geometry(\"500x250\")\n",
    "# 布局\n",
    "Label(window,text=\"UserName\",font=(\"华文行楷\",20)).place(x=100,y=50)\n",
    "Label(window,text=\"Password\",font=(\"华文行楷\",20)).place(x=100,y=100)\n",
    "\n",
    "Entry(window,textvariable=\"var1\").place(x=220,y=50,height=40,width=180)\n",
    "Entry(window,show=\"*\").place(x=220,y=100,height=40,width=180)\n",
    "\n",
    "Button(window,text=\"Login\",font=(\"华文行楷\",20)).place(x=160,y=180)\n",
    "Button(window,text=\"Cancle\",font=(\"华文行楷\",20)).place(x=260,y=180)\n",
    "\n",
    "# 主事件循环\n",
    "window.mainloop()"
   ]
  },
  {
   "cell_type": "markdown",
   "metadata": {},
   "source": [
    "- 调色：增加一个背景图片"
   ]
  },
  {
   "cell_type": "code",
   "execution_count": 44,
   "metadata": {},
   "outputs": [],
   "source": [
    "from tkinter import *\n",
    "window = Tk()\n",
    "window.title(\"GUI\")\n",
    "window.geometry(\"500x250\")\n",
    "# 增加背景图片管理类\n",
    "# photo = PhotoImage(file=\"E:/Python/img/smsht.png\")\n",
    "# Label(window,image_names=photo).place()\n",
    "\n",
    "# 布局\n",
    "Label(window,text=\"用户登录\",font=(\"华文行楷\",30)).place(x=180,y=5)\n",
    "Label(window,text=\"UserName\",font=(\"华文行楷\",20)).place(x=100,y=80)\n",
    "Label(window,text=\"Password\",font=(\"华文行楷\",20)).place(x=100,y=130)\n",
    "\n",
    "Entry(window,textvariable=\"var1\").place(x=220,y=80,height=40,width=180)\n",
    "Entry(window,show=\"*\").place(x=220,y=130,height=40,width=180)\n",
    "\n",
    "Button(window,text=\"Login\",font=(\"华文行楷\",20)).place(x=160,y=190)\n",
    "Button(window,text=\"Cancle\",font=(\"华文行楷\",20)).place(x=260,y=190)\n",
    "\n",
    "# 主事件循环\n",
    "window.mainloop()"
   ]
  },
  {
   "cell_type": "code",
   "execution_count": null,
   "metadata": {},
   "outputs": [],
   "source": []
  }
 ],
 "metadata": {
  "kernelspec": {
   "display_name": "Python 3",
   "language": "python",
   "name": "python3"
  },
  "language_info": {
   "codemirror_mode": {
    "name": "ipython",
    "version": 3
   },
   "file_extension": ".py",
   "mimetype": "text/x-python",
   "name": "python",
   "nbconvert_exporter": "python",
   "pygments_lexer": "ipython3",
   "version": "3.7.4"
  },
  "toc": {
   "base_numbering": 1,
   "nav_menu": {},
   "number_sections": true,
   "sideBar": true,
   "skip_h1_title": false,
   "title_cell": "Table of Contents",
   "title_sidebar": "Contents",
   "toc_cell": false,
   "toc_position": {},
   "toc_section_display": true,
   "toc_window_display": false
  }
 },
 "nbformat": 4,
 "nbformat_minor": 2
}
