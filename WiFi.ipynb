{
 "cells": [
  {
   "cell_type": "code",
   "execution_count": 5,
   "metadata": {},
   "outputs": [],
   "source": []
  },
  {
   "cell_type": "code",
   "execution_count": 3,
   "metadata": {},
   "outputs": [
    {
     "name": "stdout",
     "output_type": "stream",
     "text": [
      "Requirement already satisfied: pywifi in c:\\programdata\\anaconda3\\lib\\site-packages (1.1.12)\n",
      "Note: you may need to restart the kernel to use updated packages.\n"
     ]
    }
   ],
   "source": [
    "pip install --user pywifi\n"
   ]
  },
  {
   "cell_type": "code",
   "execution_count": 7,
   "metadata": {},
   "outputs": [
    {
     "name": "stderr",
     "output_type": "stream",
     "text": [
      "pywifi 2020-04-26 10:32:47,096 ERROR Open handle failed!\n",
      "pywifi 2020-04-26 10:32:47,097 ERROR Enum interface failed!\n",
      "pywifi 2020-04-26 10:32:47,098 ERROR Can't get wifi interface\n"
     ]
    },
    {
     "ename": "IndexError",
     "evalue": "list index out of range",
     "output_type": "error",
     "traceback": [
      "\u001b[1;31m---------------------------------------------------------------------------\u001b[0m",
      "\u001b[1;31mIndexError\u001b[0m                                Traceback (most recent call last)",
      "\u001b[1;32m<ipython-input-7-d58212c9ec8c>\u001b[0m in \u001b[0;36m<module>\u001b[1;34m\u001b[0m\n\u001b[0;32m     73\u001b[0m \u001b[1;33m\u001b[0m\u001b[0m\n\u001b[0;32m     74\u001b[0m \u001b[1;32mif\u001b[0m \u001b[0m__name__\u001b[0m \u001b[1;33m==\u001b[0m \u001b[1;34m\"__main__\"\u001b[0m\u001b[1;33m:\u001b[0m\u001b[1;33m\u001b[0m\u001b[1;33m\u001b[0m\u001b[0m\n\u001b[1;32m---> 75\u001b[1;33m     \u001b[0mwifi\u001b[0m \u001b[1;33m=\u001b[0m \u001b[0mWiFi\u001b[0m\u001b[1;33m(\u001b[0m\u001b[1;33m)\u001b[0m\u001b[1;33m\u001b[0m\u001b[1;33m\u001b[0m\u001b[0m\n\u001b[0m\u001b[0;32m     76\u001b[0m     \u001b[0mprint\u001b[0m\u001b[1;33m(\u001b[0m\u001b[0mwifi\u001b[0m\u001b[1;33m.\u001b[0m\u001b[0mwifi_connect_status\u001b[0m\u001b[1;33m(\u001b[0m\u001b[1;33m)\u001b[0m\u001b[1;33m)\u001b[0m\u001b[1;33m\u001b[0m\u001b[1;33m\u001b[0m\u001b[0m\n\u001b[0;32m     77\u001b[0m     \u001b[0mprint\u001b[0m\u001b[1;33m(\u001b[0m\u001b[0mwifi\u001b[0m\u001b[1;33m.\u001b[0m\u001b[0mscan_wifi\u001b[0m\u001b[1;33m(\u001b[0m\u001b[1;33m)\u001b[0m\u001b[1;33m)\u001b[0m\u001b[1;33m\u001b[0m\u001b[1;33m\u001b[0m\u001b[0m\n",
      "\u001b[1;32m<ipython-input-7-d58212c9ec8c>\u001b[0m in \u001b[0;36m__init__\u001b[1;34m(self)\u001b[0m\n\u001b[0;32m      8\u001b[0m     \u001b[1;32mdef\u001b[0m \u001b[0m__init__\u001b[0m\u001b[1;33m(\u001b[0m\u001b[0mself\u001b[0m\u001b[1;33m)\u001b[0m\u001b[1;33m:\u001b[0m\u001b[1;33m\u001b[0m\u001b[1;33m\u001b[0m\u001b[0m\n\u001b[0;32m      9\u001b[0m         \u001b[0mwifi\u001b[0m \u001b[1;33m=\u001b[0m \u001b[0mPyWiFi\u001b[0m\u001b[1;33m(\u001b[0m\u001b[1;33m)\u001b[0m                     \u001b[1;31m# 创建一个无线对象\u001b[0m\u001b[1;33m\u001b[0m\u001b[1;33m\u001b[0m\u001b[0m\n\u001b[1;32m---> 10\u001b[1;33m         \u001b[0mself\u001b[0m\u001b[1;33m.\u001b[0m\u001b[0miface\u001b[0m \u001b[1;33m=\u001b[0m \u001b[0mwifi\u001b[0m\u001b[1;33m.\u001b[0m\u001b[0minterfaces\u001b[0m\u001b[1;33m(\u001b[0m\u001b[1;33m)\u001b[0m\u001b[1;33m[\u001b[0m\u001b[1;36m0\u001b[0m\u001b[1;33m]\u001b[0m   \u001b[1;31m# 获取当前机器第一个无线网卡\u001b[0m\u001b[1;33m\u001b[0m\u001b[1;33m\u001b[0m\u001b[0m\n\u001b[0m\u001b[0;32m     11\u001b[0m \u001b[1;33m\u001b[0m\u001b[0m\n\u001b[0;32m     12\u001b[0m     \u001b[1;31m# 查看wifi的连接状态\u001b[0m\u001b[1;33m\u001b[0m\u001b[1;33m\u001b[0m\u001b[1;33m\u001b[0m\u001b[0m\n",
      "\u001b[1;31mIndexError\u001b[0m: list index out of range"
     ]
    }
   ],
   "source": [
    "# -*- coding: utf-8 -*-\n",
    "import time\n",
    "from pywifi import const, PyWiFi, Profile\n",
    "\n",
    "\n",
    "class WiFi(object):\n",
    "    # 创建对象自动初始化，类似Java的构造函数\n",
    "    def __init__(self):\n",
    "        wifi = PyWiFi()                     # 创建一个无线对象\n",
    "        self.iface = wifi.interfaces()[0]   # 获取当前机器第一个无线网卡\n",
    "\n",
    "    # 查看wifi的连接状态\n",
    "    def wifi_connect_status(self):\n",
    "        \"\"\"\n",
    "        判断本机是否有无线网卡，以及连接状态\n",
    "        :return:已连接或存在网卡返回1，否则返回0\n",
    "        \"\"\"\n",
    "        ret_list = []\n",
    "        # 判断是否连接成功\n",
    "        if self.iface.status() in \\\n",
    "                [const.IFACE_CONNECTED, const.IFACE_CONNECTING, const.IFACE_INACTIVE]:\n",
    "            return self.iface.name()        # 连接成功显示连接设备\n",
    "        else:\n",
    "            return \"not connected!\"        # 连接失败返回失败信息\n",
    "\n",
    "    \"\"\"\n",
    "    扫描附近wifi\n",
    "        乱码问题：\n",
    "        把wifi_info.ssid重新编码为gb18030\n",
    "        wifi_info.ssid.encode('raw_unicode_escape','strict').decode('gb18030')\n",
    "        我也不清楚他为什么不全用unicode\n",
    "        ssid出来应该是unicode  但是  你往profile里面写的时候  必须是gb18030\n",
    "        所以这么一个操作\n",
    "        你会发现gb18030在控制台和py的某些控件上输出是乱码  是因为 控制台是utf-8\n",
    "        想在这上面输出中文的话你得encode('raw_unicode_escape','strict').decode()\n",
    "    \"\"\"\n",
    "    def scan_wifi(self, scantime=5):\n",
    "        \"\"\"\n",
    "        :param scantime:    指定扫描时间，默认扫描时间为5秒\n",
    "        :return:            返回的是一个network dictionary,key=bssid,value=ssid\n",
    "        \"\"\"\n",
    "        self.iface.scan()                                           # 扫描附近wifi\n",
    "        time.sleep(scantime)\n",
    "        basewifi = self.iface.scan_results()\n",
    "        dict = {}\n",
    "        for i in basewifi:\n",
    "            dict[i.bssid] = i.ssid.encode(encoding='raw_unicode_escape', errors='strict').decode()\n",
    "        return dict\n",
    "\n",
    "    # 链接到指定wifi\n",
    "    def connect_wifi(self, wifi_ssid, password):\n",
    "        profile = Profile()                                         # 配置文件\n",
    "        profile.ssid = wifi_ssid                                    # wifi名称\n",
    "        profile.auth = const.AUTH_ALG_OPEN                          # 需要密码\n",
    "        profile.akm.append(const.AKM_TYPE_WPA2PSK)                  # 加密类型\n",
    "        profile.cipher = const.CIPHER_TYPE_CCMP                     # 加密单元\n",
    "        profile.key = password                                      # wifi密码\n",
    "\n",
    "        self.iface.remove_all_network_profiles()                    # 删除其他配置\n",
    "        tmp_profile = self.iface.add_network_profile(profile)       # 加载配置\n",
    "\n",
    "        self.iface.connect(tmp_profile)                             # link start\n",
    "        time.sleep(10)                                              # 尝试10s是否成功\n",
    "        isok = True\n",
    "        if self.iface.status() == const.IFACE_CONNECTED:\n",
    "            return isok                                             # 连接成功\n",
    "        else:\n",
    "            isok = False                                            # 连接失败设置isok = False\n",
    "        self.iface.disconnect()                                     # 避免超时后连接成功手动断开一下，因为在一定时间内连接失败用户会继续重试连接\n",
    "        time.sleep(1)\n",
    "        return isok\n",
    "\n",
    "\n",
    "if __name__ == \"__main__\":\n",
    "    wifi = WiFi()\n",
    "    print(wifi.wifi_connect_status())\n",
    "    print(wifi.scan_wifi())\n",
    "    print(wifi.connect_wifi(r\"HUAWEI P30 Pro\", r\"123456789\"))"
   ]
  },
  {
   "cell_type": "code",
   "execution_count": null,
   "metadata": {},
   "outputs": [],
   "source": []
  }
 ],
 "metadata": {
  "kernelspec": {
   "display_name": "Python 3",
   "language": "python",
   "name": "python3"
  },
  "language_info": {
   "codemirror_mode": {
    "name": "ipython",
    "version": 3
   },
   "file_extension": ".py",
   "mimetype": "text/x-python",
   "name": "python",
   "nbconvert_exporter": "python",
   "pygments_lexer": "ipython3",
   "version": "3.7.4"
  },
  "toc": {
   "base_numbering": 1,
   "nav_menu": {},
   "number_sections": true,
   "sideBar": true,
   "skip_h1_title": false,
   "title_cell": "Table of Contents",
   "title_sidebar": "Contents",
   "toc_cell": false,
   "toc_position": {},
   "toc_section_display": true,
   "toc_window_display": false
  }
 },
 "nbformat": 4,
 "nbformat_minor": 2
}
